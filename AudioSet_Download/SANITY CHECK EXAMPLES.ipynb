{
 "cells": [
  {
   "cell_type": "code",
   "execution_count": 1,
   "metadata": {
    "collapsed": true
   },
   "outputs": [],
   "source": [
    "from IPython.core.display import HTML, display\n",
    "import os\n",
    "import csv\n",
    "from csv import reader\n",
    "\n",
    "def wavPlayer(filepath):\n",
    "    \"\"\" will display html 5 player for compatible browser\n",
    "\n",
    "    Parameters :\n",
    "    ------------\n",
    "    filepath : relative filepath with respect to the notebook directory ( where the .ipynb are not cwd)\n",
    "               of the file to play\n",
    "\n",
    "    The browser need to know how to play wav through html5.\n",
    "\n",
    "    there is no autoplay to prevent file playing when the browser opens\n",
    "    \"\"\"\n",
    "    \n",
    "    src = \"\"\"\n",
    "    <head>\n",
    "    <meta http-equiv=\"Content-Type\" content=\"text/html; charset=utf-8\">\n",
    "    <title>Simple Test</title>\n",
    "    </head>\n",
    "    \n",
    "    <body>\n",
    "    <audio controls=\"controls\" style=\"width:600px\" >\n",
    "      <source src=\"files/%s\" type=\"audio/wav\" />\n",
    "      Your browser does not support the audio element.\n",
    "    </audio>\n",
    "    </body>\n",
    "    \"\"\"%(filepath)\n",
    "    display(HTML(src))"
   ]
  },
  {
   "cell_type": "code",
   "execution_count": 2,
   "metadata": {
    "collapsed": true
   },
   "outputs": [],
   "source": [
    "def genDictionary(path):\n",
    "    f = open(path)\n",
    "    dic = {}\n",
    "    f.readline()\n",
    "    f.readline()\n",
    "    f.readline()\n",
    "    \n",
    "    for line in reader(f,quotechar='\"', delimiter=',',\n",
    "                     quoting=csv.QUOTE_ALL, skipinitialspace=True):\n",
    "        base = line[0]\n",
    "        dic[base] = line\n",
    "    \n",
    "    return dic\n",
    "\n",
    "def genLabelDictionary(path):\n",
    "    f = open(path)\n",
    "    dic = {}\n",
    "    f.readline()    \n",
    "    for line in reader(f):\n",
    "        base = line[1]\n",
    "        dic[base] = line[2]\n",
    "    \n",
    "    return dic    "
   ]
  },
  {
   "cell_type": "code",
   "execution_count": 3,
   "metadata": {},
   "outputs": [],
   "source": [
    "path = \"eval_segments.csv\"\n",
    "csvData = genDictionary(path)\n",
    "labels = genLabelDictionary(\"class_labels_indices.csv\")\n",
    "\n",
    "#data = csvData[\"AhhJYe2nUdU\"]\n",
    "\n",
    "#print(data)\n",
    "\n",
    "#for label in data.split(\",\"):\n",
    "#    print(labels[label])\n",
    "\n",
    "def printlabels(base):\n",
    "    data = csvData[base][3]\n",
    "    print(\"LABELS:\")\n",
    "    for label in data.split(\",\"):\n",
    "        print(labels[label])\n",
    "        \n",
    "def printYTLink(base):\n",
    "    start = int(float(csvData[base][1]))\n",
    "    link = \"http://youtu.be/{0}?start={1}\".format(base,start)\n",
    "    print(link)"
   ]
  },
  {
   "cell_type": "code",
   "execution_count": 4,
   "metadata": {},
   "outputs": [
    {
     "data": {
      "text/html": [
       "\n",
       "    <head>\n",
       "    <meta http-equiv=\"Content-Type\" content=\"text/html; charset=utf-8\">\n",
       "    <title>Simple Test</title>\n",
       "    </head>\n",
       "    \n",
       "    <body>\n",
       "    <audio controls=\"controls\" style=\"width:600px\" >\n",
       "      <source src=\"files/SanityCheckSamples/YT_AhhJYe2nUdU.wav\" type=\"audio/wav\" />\n",
       "      Your browser does not support the audio element.\n",
       "    </audio>\n",
       "    </body>\n",
       "    "
      ],
      "text/plain": [
       "<IPython.core.display.HTML object>"
      ]
     },
     "metadata": {},
     "output_type": "display_data"
    },
    {
     "name": "stdout",
     "output_type": "stream",
     "text": [
      "http://youtu.be/AhhJYe2nUdU?start=10\n",
      "LABELS:\n",
      "Foghorn\n",
      "Music\n",
      "Speech\n",
      "Outside, rural or natural\n"
     ]
    }
   ],
   "source": [
    "#this has a lot going on.\n",
    "\n",
    "wavpath = \"SanityCheckSamples/YT_AhhJYe2nUdU.wav\"\n",
    "base = os.path.splitext(wavpath)[0][22:]\n",
    "\n",
    "wavPlayer(wavpath)\n",
    "printYTLink(base)\n",
    "printlabels(base)"
   ]
  },
  {
   "cell_type": "code",
   "execution_count": 5,
   "metadata": {},
   "outputs": [
    {
     "data": {
      "text/html": [
       "\n",
       "    <head>\n",
       "    <meta http-equiv=\"Content-Type\" content=\"text/html; charset=utf-8\">\n",
       "    <title>Simple Test</title>\n",
       "    </head>\n",
       "    \n",
       "    <body>\n",
       "    <audio controls=\"controls\" style=\"width:600px\" >\n",
       "      <source src=\"files/SanityCheckSamples/YT_GFg6BowJgh0.wav\" type=\"audio/wav\" />\n",
       "      Your browser does not support the audio element.\n",
       "    </audio>\n",
       "    </body>\n",
       "    "
      ],
      "text/plain": [
       "<IPython.core.display.HTML object>"
      ]
     },
     "metadata": {},
     "output_type": "display_data"
    },
    {
     "name": "stdout",
     "output_type": "stream",
     "text": [
      "http://youtu.be/GFg6BowJgh0?start=130\n",
      "LABELS:\n",
      "Drill\n",
      "Tools\n",
      "Power tool\n"
     ]
    }
   ],
   "source": [
    "#labels don't include speech...\n",
    "wavpath = \"SanityCheckSamples/YT_GFg6BowJgh0.wav\"\n",
    "base = os.path.splitext(wavpath)[0][22:]\n",
    "\n",
    "wavPlayer(wavpath)\n",
    "printYTLink(base)\n",
    "printlabels(base)"
   ]
  },
  {
   "cell_type": "code",
   "execution_count": 6,
   "metadata": {},
   "outputs": [
    {
     "data": {
      "text/html": [
       "\n",
       "    <head>\n",
       "    <meta http-equiv=\"Content-Type\" content=\"text/html; charset=utf-8\">\n",
       "    <title>Simple Test</title>\n",
       "    </head>\n",
       "    \n",
       "    <body>\n",
       "    <audio controls=\"controls\" style=\"width:600px\" >\n",
       "      <source src=\"files/SanityCheckSamples/YT_gQcQNEPUUzo.wav\" type=\"audio/wav\" />\n",
       "      Your browser does not support the audio element.\n",
       "    </audio>\n",
       "    </body>\n",
       "    "
      ],
      "text/plain": [
       "<IPython.core.display.HTML object>"
      ]
     },
     "metadata": {},
     "output_type": "display_data"
    },
    {
     "name": "stdout",
     "output_type": "stream",
     "text": [
      "http://youtu.be/gQcQNEPUUzo?start=0\n",
      "LABELS:\n",
      "Sidetone\n"
     ]
    }
   ],
   "source": [
    "wavpath = \"SanityCheckSamples/YT_gQcQNEPUUzo.wav\"\n",
    "base = os.path.splitext(wavpath)[0][22:]\n",
    "\n",
    "wavPlayer(wavpath)\n",
    "printYTLink(base)\n",
    "printlabels(base)"
   ]
  },
  {
   "cell_type": "code",
   "execution_count": 7,
   "metadata": {},
   "outputs": [
    {
     "data": {
      "text/html": [
       "\n",
       "    <head>\n",
       "    <meta http-equiv=\"Content-Type\" content=\"text/html; charset=utf-8\">\n",
       "    <title>Simple Test</title>\n",
       "    </head>\n",
       "    \n",
       "    <body>\n",
       "    <audio controls=\"controls\" style=\"width:600px\" >\n",
       "      <source src=\"files/SanityCheckSamples/YT_loqMhsKXV50.wav\" type=\"audio/wav\" />\n",
       "      Your browser does not support the audio element.\n",
       "    </audio>\n",
       "    </body>\n",
       "    "
      ],
      "text/plain": [
       "<IPython.core.display.HTML object>"
      ]
     },
     "metadata": {},
     "output_type": "display_data"
    },
    {
     "name": "stdout",
     "output_type": "stream",
     "text": [
      "http://youtu.be/loqMhsKXV50?start=20\n",
      "LABELS:\n",
      "Didgeridoo\n",
      "Theremin\n"
     ]
    }
   ],
   "source": [
    "wavpath = \"SanityCheckSamples/YT_loqMhsKXV50.wav\"\n",
    "base = os.path.splitext(wavpath)[0][22:]\n",
    "\n",
    "wavPlayer(wavpath)\n",
    "printYTLink(base)\n",
    "printlabels(base)"
   ]
  },
  {
   "cell_type": "code",
   "execution_count": 8,
   "metadata": {},
   "outputs": [
    {
     "data": {
      "text/html": [
       "\n",
       "    <head>\n",
       "    <meta http-equiv=\"Content-Type\" content=\"text/html; charset=utf-8\">\n",
       "    <title>Simple Test</title>\n",
       "    </head>\n",
       "    \n",
       "    <body>\n",
       "    <audio controls=\"controls\" style=\"width:600px\" >\n",
       "      <source src=\"files/SanityCheckSamples/YT_LYj9FpkFXTI.wav\" type=\"audio/wav\" />\n",
       "      Your browser does not support the audio element.\n",
       "    </audio>\n",
       "    </body>\n",
       "    "
      ],
      "text/plain": [
       "<IPython.core.display.HTML object>"
      ]
     },
     "metadata": {},
     "output_type": "display_data"
    },
    {
     "name": "stdout",
     "output_type": "stream",
     "text": [
      "http://youtu.be/LYj9FpkFXTI?start=30\n",
      "LABELS:\n",
      "Burping, eructation\n",
      "Music\n",
      "Bleat\n",
      "Speech\n"
     ]
    }
   ],
   "source": [
    "wavpath = \"SanityCheckSamples/YT_LYj9FpkFXTI.wav\"\n",
    "base = os.path.splitext(wavpath)[0][22:]\n",
    "\n",
    "wavPlayer(wavpath)\n",
    "printYTLink(base)\n",
    "printlabels(base)"
   ]
  },
  {
   "cell_type": "code",
   "execution_count": 9,
   "metadata": {},
   "outputs": [
    {
     "data": {
      "text/html": [
       "\n",
       "    <head>\n",
       "    <meta http-equiv=\"Content-Type\" content=\"text/html; charset=utf-8\">\n",
       "    <title>Simple Test</title>\n",
       "    </head>\n",
       "    \n",
       "    <body>\n",
       "    <audio controls=\"controls\" style=\"width:600px\" >\n",
       "      <source src=\"files/SanityCheckSamples/YT_MQ0YasvMcuQ.wav\" type=\"audio/wav\" />\n",
       "      Your browser does not support the audio element.\n",
       "    </audio>\n",
       "    </body>\n",
       "    "
      ],
      "text/plain": [
       "<IPython.core.display.HTML object>"
      ]
     },
     "metadata": {},
     "output_type": "display_data"
    },
    {
     "name": "stdout",
     "output_type": "stream",
     "text": [
      "http://youtu.be/MQ0YasvMcuQ?start=1\n",
      "LABELS:\n",
      "Screaming\n",
      "Domestic animals, pets\n",
      "Animal\n"
     ]
    }
   ],
   "source": [
    "#lol\n",
    "wavpath = \"SanityCheckSamples/YT_MQ0YasvMcuQ.wav\"\n",
    "base = os.path.splitext(wavpath)[0][22:]\n",
    "\n",
    "wavPlayer(wavpath)\n",
    "printYTLink(base)\n",
    "printlabels(base)"
   ]
  },
  {
   "cell_type": "code",
   "execution_count": 10,
   "metadata": {},
   "outputs": [
    {
     "data": {
      "text/html": [
       "\n",
       "    <head>\n",
       "    <meta http-equiv=\"Content-Type\" content=\"text/html; charset=utf-8\">\n",
       "    <title>Simple Test</title>\n",
       "    </head>\n",
       "    \n",
       "    <body>\n",
       "    <audio controls=\"controls\" style=\"width:600px\" >\n",
       "      <source src=\"files/SanityCheckSamples/YT_tAcW4hU_I8c.wav\" type=\"audio/wav\" />\n",
       "      Your browser does not support the audio element.\n",
       "    </audio>\n",
       "    </body>\n",
       "    "
      ],
      "text/plain": [
       "<IPython.core.display.HTML object>"
      ]
     },
     "metadata": {},
     "output_type": "display_data"
    },
    {
     "name": "stdout",
     "output_type": "stream",
     "text": [
      "http://youtu.be/tAcW4hU_I8c?start=100\n",
      "LABELS:\n",
      "Pour\n",
      "Speech\n"
     ]
    }
   ],
   "source": [
    "wavpath = \"SanityCheckSamples/YT_tAcW4hU_I8c.wav\"\n",
    "base = os.path.splitext(wavpath)[0][22:]\n",
    "\n",
    "wavPlayer(wavpath)\n",
    "printYTLink(base)\n",
    "printlabels(base)"
   ]
  },
  {
   "cell_type": "code",
   "execution_count": 11,
   "metadata": {},
   "outputs": [
    {
     "data": {
      "text/html": [
       "\n",
       "    <head>\n",
       "    <meta http-equiv=\"Content-Type\" content=\"text/html; charset=utf-8\">\n",
       "    <title>Simple Test</title>\n",
       "    </head>\n",
       "    \n",
       "    <body>\n",
       "    <audio controls=\"controls\" style=\"width:600px\" >\n",
       "      <source src=\"files/SanityCheckSamples/YT_TM8J1OyhKzs.wav\" type=\"audio/wav\" />\n",
       "      Your browser does not support the audio element.\n",
       "    </audio>\n",
       "    </body>\n",
       "    "
      ],
      "text/plain": [
       "<IPython.core.display.HTML object>"
      ]
     },
     "metadata": {},
     "output_type": "display_data"
    },
    {
     "name": "stdout",
     "output_type": "stream",
     "text": [
      "http://youtu.be/TM8J1OyhKzs?start=7\n",
      "LABELS:\n",
      "Snake\n",
      "Speech\n",
      "Inside, public space\n"
     ]
    }
   ],
   "source": [
    "#NOTES: This has the label \"snake\", but not snakes are heard\n",
    "#the women speaking just says \"python\"\n",
    "\n",
    "wavpath = \"SanityCheckSamples/YT_TM8J1OyhKzs.wav\"\n",
    "base = os.path.splitext(wavpath)[0][22:]\n",
    "\n",
    "wavPlayer(wavpath)\n",
    "printYTLink(base)\n",
    "printlabels(base)"
   ]
  },
  {
   "cell_type": "code",
   "execution_count": 12,
   "metadata": {},
   "outputs": [
    {
     "data": {
      "text/html": [
       "\n",
       "    <head>\n",
       "    <meta http-equiv=\"Content-Type\" content=\"text/html; charset=utf-8\">\n",
       "    <title>Simple Test</title>\n",
       "    </head>\n",
       "    \n",
       "    <body>\n",
       "    <audio controls=\"controls\" style=\"width:600px\" >\n",
       "      <source src=\"files/SanityCheckSamples/YT_uOVdA2zTCDQ.wav\" type=\"audio/wav\" />\n",
       "      Your browser does not support the audio element.\n",
       "    </audio>\n",
       "    </body>\n",
       "    "
      ],
      "text/plain": [
       "<IPython.core.display.HTML object>"
      ]
     },
     "metadata": {},
     "output_type": "display_data"
    },
    {
     "name": "stdout",
     "output_type": "stream",
     "text": [
      "http://youtu.be/uOVdA2zTCDQ?start=80\n",
      "LABELS:\n",
      "Walk, footsteps\n"
     ]
    }
   ],
   "source": [
    "wavpath = \"SanityCheckSamples/YT_uOVdA2zTCDQ.wav\"\n",
    "base = os.path.splitext(wavpath)[0][22:]\n",
    "\n",
    "wavPlayer(wavpath)\n",
    "printYTLink(base)\n",
    "printlabels(base)"
   ]
  },
  {
   "cell_type": "code",
   "execution_count": 14,
   "metadata": {},
   "outputs": [
    {
     "data": {
      "text/html": [
       "\n",
       "    <head>\n",
       "    <meta http-equiv=\"Content-Type\" content=\"text/html; charset=utf-8\">\n",
       "    <title>Simple Test</title>\n",
       "    </head>\n",
       "    \n",
       "    <body>\n",
       "    <audio controls=\"controls\" style=\"width:600px\" >\n",
       "      <source src=\"files/SanityCheckSamples/YT_ZZk09BLi2mU.wav\" type=\"audio/wav\" />\n",
       "      Your browser does not support the audio element.\n",
       "    </audio>\n",
       "    </body>\n",
       "    "
      ],
      "text/plain": [
       "<IPython.core.display.HTML object>"
      ]
     },
     "metadata": {},
     "output_type": "display_data"
    },
    {
     "name": "stdout",
     "output_type": "stream",
     "text": [
      "http://youtu.be/ZZk09BLi2mU?start=20\n",
      "LABELS:\n",
      "Sitar\n"
     ]
    }
   ],
   "source": [
    "wavpath = \"SanityCheckSamples/YT_ZZk09BLi2mU.wav\"\n",
    "base = os.path.splitext(wavpath)[0][22:]\n",
    "\n",
    "wavPlayer(wavpath)\n",
    "printYTLink(base)\n",
    "printlabels(base)"
   ]
  },
  {
   "cell_type": "code",
   "execution_count": null,
   "metadata": {
    "collapsed": true
   },
   "outputs": [],
   "source": []
  },
  {
   "cell_type": "code",
   "execution_count": null,
   "metadata": {
    "collapsed": true
   },
   "outputs": [],
   "source": []
  }
 ],
 "metadata": {
  "kernelspec": {
   "display_name": "Python 3",
   "language": "python",
   "name": "python3"
  },
  "language_info": {
   "codemirror_mode": {
    "name": "ipython",
    "version": 3
   },
   "file_extension": ".py",
   "mimetype": "text/x-python",
   "name": "python",
   "nbconvert_exporter": "python",
   "pygments_lexer": "ipython3",
   "version": "3.5.3"
  }
 },
 "nbformat": 4,
 "nbformat_minor": 2
}
